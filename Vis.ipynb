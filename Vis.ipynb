{
 "cells": [
  {
   "cell_type": "markdown",
   "id": "8e4c386a-db1a-4167-8ae9-64ade7d71540",
   "metadata": {},
   "source": [
    "# Hotel Booking Demand"
   ]
  },
  {
   "cell_type": "code",
   "execution_count": 1,
   "id": "c9ffb602-fd68-45c0-b9a8-6b5df7e59108",
   "metadata": {},
   "outputs": [],
   "source": [
    "import pandas as pd\n",
    "import numpy as np\n",
    "import matplotlib.pyplot as plt\n",
    "import seaborn as sns\n",
    "import statistics as stat"
   ]
  },
  {
   "cell_type": "markdown",
   "id": "547b3146-f489-4b06-88cb-697518894e35",
   "metadata": {},
   "source": [
    "# Loading dataset via URL"
   ]
  },
  {
   "cell_type": "code",
   "execution_count": 2,
   "id": "df43965d-9411-406f-8554-29af40e8600a",
   "metadata": {},
   "outputs": [],
   "source": [
    "data = pd.read_csv('https://raw.githubusercontent.com/huantnguyen/Hotel-Booking-Demands-Dataset/main/hotel_bookings.csv')"
   ]
  },
  {
   "cell_type": "markdown",
   "id": "607b9ecd-f135-4047-b65a-84fc78fe9eb8",
   "metadata": {},
   "source": [
    "# Viewing first 5 and last 5 rows"
   ]
  },
  {
   "cell_type": "code",
   "execution_count": 3,
   "id": "c1bfb470-f63c-479e-886d-0df316093928",
   "metadata": {},
   "outputs": [],
   "source": [
    "pd.set_option('precision', 2)"
   ]
  },
  {
   "cell_type": "markdown",
   "id": "eed52deb-d4ad-4b83-8329-003418406c10",
   "metadata": {},
   "source": [
    "data.head() "
   ]
  },
  {
   "cell_type": "code",
   "execution_count": 4,
   "id": "f77fc44c-54de-42dc-962d-68f27cc85bd2",
   "metadata": {},
   "outputs": [
    {
     "data": {
      "text/html": [
       "<div>\n",
       "<style scoped>\n",
       "    .dataframe tbody tr th:only-of-type {\n",
       "        vertical-align: middle;\n",
       "    }\n",
       "\n",
       "    .dataframe tbody tr th {\n",
       "        vertical-align: top;\n",
       "    }\n",
       "\n",
       "    .dataframe thead th {\n",
       "        text-align: right;\n",
       "    }\n",
       "</style>\n",
       "<table border=\"1\" class=\"dataframe\">\n",
       "  <thead>\n",
       "    <tr style=\"text-align: right;\">\n",
       "      <th></th>\n",
       "      <th>hotel</th>\n",
       "      <th>is_canceled</th>\n",
       "      <th>lead_time</th>\n",
       "      <th>arrival_date_year</th>\n",
       "      <th>arrival_date_month</th>\n",
       "      <th>arrival_date_week_number</th>\n",
       "      <th>arrival_date_day_of_month</th>\n",
       "      <th>stays_in_weekend_nights</th>\n",
       "      <th>stays_in_week_nights</th>\n",
       "      <th>adults</th>\n",
       "      <th>...</th>\n",
       "      <th>deposit_type</th>\n",
       "      <th>agent</th>\n",
       "      <th>company</th>\n",
       "      <th>days_in_waiting_list</th>\n",
       "      <th>customer_type</th>\n",
       "      <th>adr</th>\n",
       "      <th>required_car_parking_spaces</th>\n",
       "      <th>total_of_special_requests</th>\n",
       "      <th>reservation_status</th>\n",
       "      <th>reservation_status_date</th>\n",
       "    </tr>\n",
       "  </thead>\n",
       "  <tbody>\n",
       "    <tr>\n",
       "      <th>119385</th>\n",
       "      <td>City Hotel</td>\n",
       "      <td>0</td>\n",
       "      <td>23</td>\n",
       "      <td>2017</td>\n",
       "      <td>August</td>\n",
       "      <td>35</td>\n",
       "      <td>30</td>\n",
       "      <td>2</td>\n",
       "      <td>5</td>\n",
       "      <td>2</td>\n",
       "      <td>...</td>\n",
       "      <td>No Deposit</td>\n",
       "      <td>394.0</td>\n",
       "      <td>NaN</td>\n",
       "      <td>0</td>\n",
       "      <td>Transient</td>\n",
       "      <td>96.14</td>\n",
       "      <td>0</td>\n",
       "      <td>0</td>\n",
       "      <td>Check-Out</td>\n",
       "      <td>2017-09-06</td>\n",
       "    </tr>\n",
       "    <tr>\n",
       "      <th>119386</th>\n",
       "      <td>City Hotel</td>\n",
       "      <td>0</td>\n",
       "      <td>102</td>\n",
       "      <td>2017</td>\n",
       "      <td>August</td>\n",
       "      <td>35</td>\n",
       "      <td>31</td>\n",
       "      <td>2</td>\n",
       "      <td>5</td>\n",
       "      <td>3</td>\n",
       "      <td>...</td>\n",
       "      <td>No Deposit</td>\n",
       "      <td>9.0</td>\n",
       "      <td>NaN</td>\n",
       "      <td>0</td>\n",
       "      <td>Transient</td>\n",
       "      <td>225.43</td>\n",
       "      <td>0</td>\n",
       "      <td>2</td>\n",
       "      <td>Check-Out</td>\n",
       "      <td>2017-09-07</td>\n",
       "    </tr>\n",
       "    <tr>\n",
       "      <th>119387</th>\n",
       "      <td>City Hotel</td>\n",
       "      <td>0</td>\n",
       "      <td>34</td>\n",
       "      <td>2017</td>\n",
       "      <td>August</td>\n",
       "      <td>35</td>\n",
       "      <td>31</td>\n",
       "      <td>2</td>\n",
       "      <td>5</td>\n",
       "      <td>2</td>\n",
       "      <td>...</td>\n",
       "      <td>No Deposit</td>\n",
       "      <td>9.0</td>\n",
       "      <td>NaN</td>\n",
       "      <td>0</td>\n",
       "      <td>Transient</td>\n",
       "      <td>157.71</td>\n",
       "      <td>0</td>\n",
       "      <td>4</td>\n",
       "      <td>Check-Out</td>\n",
       "      <td>2017-09-07</td>\n",
       "    </tr>\n",
       "    <tr>\n",
       "      <th>119388</th>\n",
       "      <td>City Hotel</td>\n",
       "      <td>0</td>\n",
       "      <td>109</td>\n",
       "      <td>2017</td>\n",
       "      <td>August</td>\n",
       "      <td>35</td>\n",
       "      <td>31</td>\n",
       "      <td>2</td>\n",
       "      <td>5</td>\n",
       "      <td>2</td>\n",
       "      <td>...</td>\n",
       "      <td>No Deposit</td>\n",
       "      <td>89.0</td>\n",
       "      <td>NaN</td>\n",
       "      <td>0</td>\n",
       "      <td>Transient</td>\n",
       "      <td>104.40</td>\n",
       "      <td>0</td>\n",
       "      <td>0</td>\n",
       "      <td>Check-Out</td>\n",
       "      <td>2017-09-07</td>\n",
       "    </tr>\n",
       "    <tr>\n",
       "      <th>119389</th>\n",
       "      <td>City Hotel</td>\n",
       "      <td>0</td>\n",
       "      <td>205</td>\n",
       "      <td>2017</td>\n",
       "      <td>August</td>\n",
       "      <td>35</td>\n",
       "      <td>29</td>\n",
       "      <td>2</td>\n",
       "      <td>7</td>\n",
       "      <td>2</td>\n",
       "      <td>...</td>\n",
       "      <td>No Deposit</td>\n",
       "      <td>9.0</td>\n",
       "      <td>NaN</td>\n",
       "      <td>0</td>\n",
       "      <td>Transient</td>\n",
       "      <td>151.20</td>\n",
       "      <td>0</td>\n",
       "      <td>2</td>\n",
       "      <td>Check-Out</td>\n",
       "      <td>2017-09-07</td>\n",
       "    </tr>\n",
       "  </tbody>\n",
       "</table>\n",
       "<p>5 rows × 32 columns</p>\n",
       "</div>"
      ],
      "text/plain": [
       "             hotel  is_canceled  lead_time  arrival_date_year  \\\n",
       "119385  City Hotel            0         23               2017   \n",
       "119386  City Hotel            0        102               2017   \n",
       "119387  City Hotel            0         34               2017   \n",
       "119388  City Hotel            0        109               2017   \n",
       "119389  City Hotel            0        205               2017   \n",
       "\n",
       "       arrival_date_month  arrival_date_week_number  \\\n",
       "119385             August                        35   \n",
       "119386             August                        35   \n",
       "119387             August                        35   \n",
       "119388             August                        35   \n",
       "119389             August                        35   \n",
       "\n",
       "        arrival_date_day_of_month  stays_in_weekend_nights  \\\n",
       "119385                         30                        2   \n",
       "119386                         31                        2   \n",
       "119387                         31                        2   \n",
       "119388                         31                        2   \n",
       "119389                         29                        2   \n",
       "\n",
       "        stays_in_week_nights  adults  ...  deposit_type  agent company  \\\n",
       "119385                     5       2  ...    No Deposit  394.0     NaN   \n",
       "119386                     5       3  ...    No Deposit    9.0     NaN   \n",
       "119387                     5       2  ...    No Deposit    9.0     NaN   \n",
       "119388                     5       2  ...    No Deposit   89.0     NaN   \n",
       "119389                     7       2  ...    No Deposit    9.0     NaN   \n",
       "\n",
       "       days_in_waiting_list customer_type     adr  \\\n",
       "119385                    0     Transient   96.14   \n",
       "119386                    0     Transient  225.43   \n",
       "119387                    0     Transient  157.71   \n",
       "119388                    0     Transient  104.40   \n",
       "119389                    0     Transient  151.20   \n",
       "\n",
       "        required_car_parking_spaces  total_of_special_requests  \\\n",
       "119385                            0                          0   \n",
       "119386                            0                          2   \n",
       "119387                            0                          4   \n",
       "119388                            0                          0   \n",
       "119389                            0                          2   \n",
       "\n",
       "        reservation_status reservation_status_date  \n",
       "119385           Check-Out              2017-09-06  \n",
       "119386           Check-Out              2017-09-07  \n",
       "119387           Check-Out              2017-09-07  \n",
       "119388           Check-Out              2017-09-07  \n",
       "119389           Check-Out              2017-09-07  \n",
       "\n",
       "[5 rows x 32 columns]"
      ]
     },
     "execution_count": 4,
     "metadata": {},
     "output_type": "execute_result"
    }
   ],
   "source": [
    "data.tail()"
   ]
  },
  {
   "cell_type": "markdown",
   "id": "2e701be4-5f5a-40d2-a3c4-f7da164ea9ba",
   "metadata": {},
   "source": [
    "#### Checking if there exist Nan values"
   ]
  },
  {
   "cell_type": "code",
   "execution_count": 5,
   "id": "a8e696db-8cab-4e32-bf24-4da681e93b17",
   "metadata": {},
   "outputs": [
    {
     "data": {
      "text/plain": [
       "True"
      ]
     },
     "execution_count": 5,
     "metadata": {},
     "output_type": "execute_result"
    }
   ],
   "source": [
    "data.isnull().values.any()"
   ]
  },
  {
   "cell_type": "code",
   "execution_count": 6,
   "id": "c2a670d1-729f-4b76-8a00-6e75f9e6620c",
   "metadata": {},
   "outputs": [
    {
     "data": {
      "text/plain": [
       "hotel                                  0\n",
       "is_canceled                            0\n",
       "lead_time                              0\n",
       "arrival_date_year                      0\n",
       "arrival_date_month                     0\n",
       "arrival_date_week_number               0\n",
       "arrival_date_day_of_month              0\n",
       "stays_in_weekend_nights                0\n",
       "stays_in_week_nights                   0\n",
       "adults                                 0\n",
       "children                               4\n",
       "babies                                 0\n",
       "meal                                   0\n",
       "country                              488\n",
       "market_segment                         0\n",
       "distribution_channel                   0\n",
       "is_repeated_guest                      0\n",
       "previous_cancellations                 0\n",
       "previous_bookings_not_canceled         0\n",
       "reserved_room_type                     0\n",
       "assigned_room_type                     0\n",
       "booking_changes                        0\n",
       "deposit_type                           0\n",
       "agent                              16340\n",
       "company                           112593\n",
       "days_in_waiting_list                   0\n",
       "customer_type                          0\n",
       "adr                                    0\n",
       "required_car_parking_spaces            0\n",
       "total_of_special_requests              0\n",
       "reservation_status                     0\n",
       "reservation_status_date                0\n",
       "dtype: int64"
      ]
     },
     "execution_count": 6,
     "metadata": {},
     "output_type": "execute_result"
    }
   ],
   "source": [
    "data.isnull().sum()"
   ]
  },
  {
   "cell_type": "markdown",
   "id": "ff12fd83-2240-400e-9c17-4be79854b957",
   "metadata": {},
   "source": [
    "#### Checking columns datatype"
   ]
  },
  {
   "cell_type": "code",
   "execution_count": 7,
   "id": "8df20ae5-0d33-4276-bc66-06826e9e979f",
   "metadata": {},
   "outputs": [
    {
     "name": "stdout",
     "output_type": "stream",
     "text": [
      "<class 'pandas.core.frame.DataFrame'>\n",
      "RangeIndex: 119390 entries, 0 to 119389\n",
      "Data columns (total 32 columns):\n",
      " #   Column                          Non-Null Count   Dtype  \n",
      "---  ------                          --------------   -----  \n",
      " 0   hotel                           119390 non-null  object \n",
      " 1   is_canceled                     119390 non-null  int64  \n",
      " 2   lead_time                       119390 non-null  int64  \n",
      " 3   arrival_date_year               119390 non-null  int64  \n",
      " 4   arrival_date_month              119390 non-null  object \n",
      " 5   arrival_date_week_number        119390 non-null  int64  \n",
      " 6   arrival_date_day_of_month       119390 non-null  int64  \n",
      " 7   stays_in_weekend_nights         119390 non-null  int64  \n",
      " 8   stays_in_week_nights            119390 non-null  int64  \n",
      " 9   adults                          119390 non-null  int64  \n",
      " 10  children                        119386 non-null  float64\n",
      " 11  babies                          119390 non-null  int64  \n",
      " 12  meal                            119390 non-null  object \n",
      " 13  country                         118902 non-null  object \n",
      " 14  market_segment                  119390 non-null  object \n",
      " 15  distribution_channel            119390 non-null  object \n",
      " 16  is_repeated_guest               119390 non-null  int64  \n",
      " 17  previous_cancellations          119390 non-null  int64  \n",
      " 18  previous_bookings_not_canceled  119390 non-null  int64  \n",
      " 19  reserved_room_type              119390 non-null  object \n",
      " 20  assigned_room_type              119390 non-null  object \n",
      " 21  booking_changes                 119390 non-null  int64  \n",
      " 22  deposit_type                    119390 non-null  object \n",
      " 23  agent                           103050 non-null  float64\n",
      " 24  company                         6797 non-null    float64\n",
      " 25  days_in_waiting_list            119390 non-null  int64  \n",
      " 26  customer_type                   119390 non-null  object \n",
      " 27  adr                             119390 non-null  float64\n",
      " 28  required_car_parking_spaces     119390 non-null  int64  \n",
      " 29  total_of_special_requests       119390 non-null  int64  \n",
      " 30  reservation_status              119390 non-null  object \n",
      " 31  reservation_status_date         119390 non-null  object \n",
      "dtypes: float64(4), int64(16), object(12)\n",
      "memory usage: 29.1+ MB\n"
     ]
    }
   ],
   "source": [
    "data.info()"
   ]
  },
  {
   "cell_type": "markdown",
   "id": "7bd34bbd-519a-4f86-bb44-713507c4afa2",
   "metadata": {},
   "source": [
    "#### Flling in null values"
   ]
  },
  {
   "cell_type": "code",
   "execution_count": 8,
   "id": "8d986e3b-1f38-410a-a853-aeaf6ee67a68",
   "metadata": {},
   "outputs": [
    {
     "name": "stdout",
     "output_type": "stream",
     "text": [
      "stat.median    = 240.00\n",
      "stat.median    = 0.00\n"
     ]
    },
    {
     "data": {
      "text/plain": [
       "agent            0\n",
       "children         0\n",
       "company     112593\n",
       "dtype: int64"
      ]
     },
     "execution_count": 8,
     "metadata": {},
     "output_type": "execute_result"
    }
   ],
   "source": [
    "# Since agent and children are both floats, we will fill in null values with median value\n",
    "all_agent = data.agent\n",
    "agent_median = stat.median(all_agent)\n",
    "print(f'stat.median    = {stat.median(all_agent):.2f}')\n",
    "data[['agent']] = data[['agent']].fillna(value = agent_median)\n",
    "\n",
    "all_children = data.children\n",
    "children_median = stat.median(all_children)\n",
    "print(f'stat.median    = {stat.median(all_children):.2f}')\n",
    "data[['children']] = data[['children']].fillna(value = children_median)\n",
    "\n",
    "# Check if it worked\n",
    "data[['agent', 'children', 'company']].isnull().sum()"
   ]
  },
  {
   "cell_type": "code",
   "execution_count": 9,
   "id": "08a72894-3df3-4b54-9f31-cd1f1c4356ae",
   "metadata": {},
   "outputs": [
    {
     "data": {
      "text/plain": [
       "country    0\n",
       "dtype: int64"
      ]
     },
     "execution_count": 9,
     "metadata": {},
     "output_type": "execute_result"
    }
   ],
   "source": [
    "# Since country is string, we will fill in null values with None for simplicity\n",
    "data[['country']] = data[['country']].fillna(value='None')\n",
    "# Check if it worked\n",
    "data[['country']].isnull().sum()"
   ]
  },
  {
   "cell_type": "code",
   "execution_count": 10,
   "id": "5494fa6b-1ff5-4832-a146-f086cd93a016",
   "metadata": {},
   "outputs": [
    {
     "data": {
      "text/plain": [
       "True"
      ]
     },
     "execution_count": 10,
     "metadata": {},
     "output_type": "execute_result"
    }
   ],
   "source": [
    "data.isnull().values.any()"
   ]
  },
  {
   "cell_type": "markdown",
   "id": "85d8614e-433e-4824-a094-87140229a383",
   "metadata": {},
   "source": [
    "# Simple Analysis"
   ]
  },
  {
   "cell_type": "code",
   "execution_count": 11,
   "id": "6e268f00-1e9b-41f1-aea0-a4b8119bf2c4",
   "metadata": {},
   "outputs": [
    {
     "data": {
      "text/html": [
       "<div>\n",
       "<style scoped>\n",
       "    .dataframe tbody tr th:only-of-type {\n",
       "        vertical-align: middle;\n",
       "    }\n",
       "\n",
       "    .dataframe tbody tr th {\n",
       "        vertical-align: top;\n",
       "    }\n",
       "\n",
       "    .dataframe thead th {\n",
       "        text-align: right;\n",
       "    }\n",
       "</style>\n",
       "<table border=\"1\" class=\"dataframe\">\n",
       "  <thead>\n",
       "    <tr style=\"text-align: right;\">\n",
       "      <th></th>\n",
       "      <th>is_canceled</th>\n",
       "      <th>lead_time</th>\n",
       "      <th>arrival_date_year</th>\n",
       "      <th>arrival_date_week_number</th>\n",
       "      <th>arrival_date_day_of_month</th>\n",
       "      <th>stays_in_weekend_nights</th>\n",
       "      <th>stays_in_week_nights</th>\n",
       "      <th>adults</th>\n",
       "      <th>children</th>\n",
       "      <th>babies</th>\n",
       "      <th>is_repeated_guest</th>\n",
       "      <th>previous_cancellations</th>\n",
       "      <th>previous_bookings_not_canceled</th>\n",
       "      <th>booking_changes</th>\n",
       "      <th>agent</th>\n",
       "      <th>company</th>\n",
       "      <th>days_in_waiting_list</th>\n",
       "      <th>adr</th>\n",
       "      <th>required_car_parking_spaces</th>\n",
       "      <th>total_of_special_requests</th>\n",
       "    </tr>\n",
       "  </thead>\n",
       "  <tbody>\n",
       "    <tr>\n",
       "      <th>count</th>\n",
       "      <td>119390.00</td>\n",
       "      <td>119390.00</td>\n",
       "      <td>119390.00</td>\n",
       "      <td>119390.00</td>\n",
       "      <td>119390.00</td>\n",
       "      <td>119390.00</td>\n",
       "      <td>119390.00</td>\n",
       "      <td>119390.00</td>\n",
       "      <td>119390.0</td>\n",
       "      <td>1.19e+05</td>\n",
       "      <td>119390.00</td>\n",
       "      <td>119390.00</td>\n",
       "      <td>119390.00</td>\n",
       "      <td>119390.00</td>\n",
       "      <td>119390.00</td>\n",
       "      <td>6797.00</td>\n",
       "      <td>119390.00</td>\n",
       "      <td>119390.00</td>\n",
       "      <td>119390.00</td>\n",
       "      <td>119390.00</td>\n",
       "    </tr>\n",
       "    <tr>\n",
       "      <th>mean</th>\n",
       "      <td>0.37</td>\n",
       "      <td>104.01</td>\n",
       "      <td>2016.16</td>\n",
       "      <td>27.17</td>\n",
       "      <td>15.80</td>\n",
       "      <td>0.93</td>\n",
       "      <td>2.50</td>\n",
       "      <td>1.86</td>\n",
       "      <td>0.1</td>\n",
       "      <td>7.95e-03</td>\n",
       "      <td>0.03</td>\n",
       "      <td>0.09</td>\n",
       "      <td>0.14</td>\n",
       "      <td>0.22</td>\n",
       "      <td>107.68</td>\n",
       "      <td>189.27</td>\n",
       "      <td>2.32</td>\n",
       "      <td>101.83</td>\n",
       "      <td>0.06</td>\n",
       "      <td>0.57</td>\n",
       "    </tr>\n",
       "    <tr>\n",
       "      <th>std</th>\n",
       "      <td>0.48</td>\n",
       "      <td>106.86</td>\n",
       "      <td>0.71</td>\n",
       "      <td>13.61</td>\n",
       "      <td>8.78</td>\n",
       "      <td>1.00</td>\n",
       "      <td>1.91</td>\n",
       "      <td>0.58</td>\n",
       "      <td>0.4</td>\n",
       "      <td>9.74e-02</td>\n",
       "      <td>0.18</td>\n",
       "      <td>0.84</td>\n",
       "      <td>1.50</td>\n",
       "      <td>0.65</td>\n",
       "      <td>115.62</td>\n",
       "      <td>131.66</td>\n",
       "      <td>17.59</td>\n",
       "      <td>50.54</td>\n",
       "      <td>0.25</td>\n",
       "      <td>0.79</td>\n",
       "    </tr>\n",
       "    <tr>\n",
       "      <th>min</th>\n",
       "      <td>0.00</td>\n",
       "      <td>0.00</td>\n",
       "      <td>2015.00</td>\n",
       "      <td>1.00</td>\n",
       "      <td>1.00</td>\n",
       "      <td>0.00</td>\n",
       "      <td>0.00</td>\n",
       "      <td>0.00</td>\n",
       "      <td>0.0</td>\n",
       "      <td>0.00e+00</td>\n",
       "      <td>0.00</td>\n",
       "      <td>0.00</td>\n",
       "      <td>0.00</td>\n",
       "      <td>0.00</td>\n",
       "      <td>1.00</td>\n",
       "      <td>6.00</td>\n",
       "      <td>0.00</td>\n",
       "      <td>-6.38</td>\n",
       "      <td>0.00</td>\n",
       "      <td>0.00</td>\n",
       "    </tr>\n",
       "    <tr>\n",
       "      <th>25%</th>\n",
       "      <td>0.00</td>\n",
       "      <td>18.00</td>\n",
       "      <td>2016.00</td>\n",
       "      <td>16.00</td>\n",
       "      <td>8.00</td>\n",
       "      <td>0.00</td>\n",
       "      <td>1.00</td>\n",
       "      <td>2.00</td>\n",
       "      <td>0.0</td>\n",
       "      <td>0.00e+00</td>\n",
       "      <td>0.00</td>\n",
       "      <td>0.00</td>\n",
       "      <td>0.00</td>\n",
       "      <td>0.00</td>\n",
       "      <td>9.00</td>\n",
       "      <td>62.00</td>\n",
       "      <td>0.00</td>\n",
       "      <td>69.29</td>\n",
       "      <td>0.00</td>\n",
       "      <td>0.00</td>\n",
       "    </tr>\n",
       "    <tr>\n",
       "      <th>50%</th>\n",
       "      <td>0.00</td>\n",
       "      <td>69.00</td>\n",
       "      <td>2016.00</td>\n",
       "      <td>28.00</td>\n",
       "      <td>16.00</td>\n",
       "      <td>1.00</td>\n",
       "      <td>2.00</td>\n",
       "      <td>2.00</td>\n",
       "      <td>0.0</td>\n",
       "      <td>0.00e+00</td>\n",
       "      <td>0.00</td>\n",
       "      <td>0.00</td>\n",
       "      <td>0.00</td>\n",
       "      <td>0.00</td>\n",
       "      <td>28.00</td>\n",
       "      <td>179.00</td>\n",
       "      <td>0.00</td>\n",
       "      <td>94.58</td>\n",
       "      <td>0.00</td>\n",
       "      <td>0.00</td>\n",
       "    </tr>\n",
       "    <tr>\n",
       "      <th>75%</th>\n",
       "      <td>1.00</td>\n",
       "      <td>160.00</td>\n",
       "      <td>2017.00</td>\n",
       "      <td>38.00</td>\n",
       "      <td>23.00</td>\n",
       "      <td>2.00</td>\n",
       "      <td>3.00</td>\n",
       "      <td>2.00</td>\n",
       "      <td>0.0</td>\n",
       "      <td>0.00e+00</td>\n",
       "      <td>0.00</td>\n",
       "      <td>0.00</td>\n",
       "      <td>0.00</td>\n",
       "      <td>0.00</td>\n",
       "      <td>240.00</td>\n",
       "      <td>270.00</td>\n",
       "      <td>0.00</td>\n",
       "      <td>126.00</td>\n",
       "      <td>0.00</td>\n",
       "      <td>1.00</td>\n",
       "    </tr>\n",
       "    <tr>\n",
       "      <th>max</th>\n",
       "      <td>1.00</td>\n",
       "      <td>737.00</td>\n",
       "      <td>2017.00</td>\n",
       "      <td>53.00</td>\n",
       "      <td>31.00</td>\n",
       "      <td>19.00</td>\n",
       "      <td>50.00</td>\n",
       "      <td>55.00</td>\n",
       "      <td>10.0</td>\n",
       "      <td>1.00e+01</td>\n",
       "      <td>1.00</td>\n",
       "      <td>26.00</td>\n",
       "      <td>72.00</td>\n",
       "      <td>21.00</td>\n",
       "      <td>535.00</td>\n",
       "      <td>543.00</td>\n",
       "      <td>391.00</td>\n",
       "      <td>5400.00</td>\n",
       "      <td>8.00</td>\n",
       "      <td>5.00</td>\n",
       "    </tr>\n",
       "  </tbody>\n",
       "</table>\n",
       "</div>"
      ],
      "text/plain": [
       "       is_canceled  lead_time  arrival_date_year  arrival_date_week_number  \\\n",
       "count    119390.00  119390.00          119390.00                 119390.00   \n",
       "mean          0.37     104.01            2016.16                     27.17   \n",
       "std           0.48     106.86               0.71                     13.61   \n",
       "min           0.00       0.00            2015.00                      1.00   \n",
       "25%           0.00      18.00            2016.00                     16.00   \n",
       "50%           0.00      69.00            2016.00                     28.00   \n",
       "75%           1.00     160.00            2017.00                     38.00   \n",
       "max           1.00     737.00            2017.00                     53.00   \n",
       "\n",
       "       arrival_date_day_of_month  stays_in_weekend_nights  \\\n",
       "count                  119390.00                119390.00   \n",
       "mean                       15.80                     0.93   \n",
       "std                         8.78                     1.00   \n",
       "min                         1.00                     0.00   \n",
       "25%                         8.00                     0.00   \n",
       "50%                        16.00                     1.00   \n",
       "75%                        23.00                     2.00   \n",
       "max                        31.00                    19.00   \n",
       "\n",
       "       stays_in_week_nights     adults  children    babies  is_repeated_guest  \\\n",
       "count             119390.00  119390.00  119390.0  1.19e+05          119390.00   \n",
       "mean                   2.50       1.86       0.1  7.95e-03               0.03   \n",
       "std                    1.91       0.58       0.4  9.74e-02               0.18   \n",
       "min                    0.00       0.00       0.0  0.00e+00               0.00   \n",
       "25%                    1.00       2.00       0.0  0.00e+00               0.00   \n",
       "50%                    2.00       2.00       0.0  0.00e+00               0.00   \n",
       "75%                    3.00       2.00       0.0  0.00e+00               0.00   \n",
       "max                   50.00      55.00      10.0  1.00e+01               1.00   \n",
       "\n",
       "       previous_cancellations  previous_bookings_not_canceled  \\\n",
       "count               119390.00                       119390.00   \n",
       "mean                     0.09                            0.14   \n",
       "std                      0.84                            1.50   \n",
       "min                      0.00                            0.00   \n",
       "25%                      0.00                            0.00   \n",
       "50%                      0.00                            0.00   \n",
       "75%                      0.00                            0.00   \n",
       "max                     26.00                           72.00   \n",
       "\n",
       "       booking_changes      agent  company  days_in_waiting_list        adr  \\\n",
       "count        119390.00  119390.00  6797.00             119390.00  119390.00   \n",
       "mean              0.22     107.68   189.27                  2.32     101.83   \n",
       "std               0.65     115.62   131.66                 17.59      50.54   \n",
       "min               0.00       1.00     6.00                  0.00      -6.38   \n",
       "25%               0.00       9.00    62.00                  0.00      69.29   \n",
       "50%               0.00      28.00   179.00                  0.00      94.58   \n",
       "75%               0.00     240.00   270.00                  0.00     126.00   \n",
       "max              21.00     535.00   543.00                391.00    5400.00   \n",
       "\n",
       "       required_car_parking_spaces  total_of_special_requests  \n",
       "count                    119390.00                  119390.00  \n",
       "mean                          0.06                       0.57  \n",
       "std                           0.25                       0.79  \n",
       "min                           0.00                       0.00  \n",
       "25%                           0.00                       0.00  \n",
       "50%                           0.00                       0.00  \n",
       "75%                           0.00                       1.00  \n",
       "max                           8.00                       5.00  "
      ]
     },
     "execution_count": 11,
     "metadata": {},
     "output_type": "execute_result"
    }
   ],
   "source": [
    "data.describe()"
   ]
  },
  {
   "cell_type": "code",
   "execution_count": 12,
   "id": "3ba8dd22-37d3-41e6-86d9-b279d450aa04",
   "metadata": {},
   "outputs": [
    {
     "data": {
      "text/plain": [
       "['August',\n",
       " 'July',\n",
       " 'May',\n",
       " 'October',\n",
       " 'April',\n",
       " 'June',\n",
       " 'September',\n",
       " 'March',\n",
       " 'February',\n",
       " 'November',\n",
       " 'December',\n",
       " 'January']"
      ]
     },
     "execution_count": 12,
     "metadata": {},
     "output_type": "execute_result"
    }
   ],
   "source": [
    "month_val = data[\"arrival_date_month\"].value_counts()\n",
    "month_name = data[\"arrival_date_month\"].value_counts().index.tolist()\n",
    "month_name"
   ]
  },
  {
   "cell_type": "code",
   "execution_count": 20,
   "id": "5652b750-9fd7-4449-82d9-24ba804360ed",
   "metadata": {},
   "outputs": [
    {
     "data": {
      "image/png": "[encoded data removed]",
      "text/plain": [
       "<Figure size 720x720 with 1 Axes>"
      ]
     },
     "metadata": {},
     "output_type": "display_data"
    }
   ],
   "source": [
    "#define Seaborn color palette to use\n",
    "colors = sns.color_palette('pastel')[0:5]\n",
    "\n",
    "#create pie chart\n",
    "plt.figure(figsize=(10,10))\n",
    "plt.title('Comparing Total Number Guests In Each Month Excluding cancelations')\n",
    "plt.pie(month_val, labels = month_name, colors = colors, autopct='%.0f%%')\n",
    "plt.show()"
   ]
  },
  {
   "cell_type": "markdown",
   "id": "2ccdc0d8-6a6b-4fb7-8b0b-189feaa96f34",
   "metadata": {},
   "source": [
    "### So we can see that August is the most popular month for hotel booking and January is the least popular."
   ]
  },
  {
   "cell_type": "code",
   "execution_count": 14,
   "id": "4224cf63-622d-4058-9a6b-c72f6da0ebb0",
   "metadata": {},
   "outputs": [
    {
     "data": {
      "text/plain": [
       "<pandas.core.groupby.generic.DataFrameGroupBy object at 0x0000024C9E62CEE0>"
      ]
     },
     "execution_count": 14,
     "metadata": {},
     "output_type": "execute_result"
    }
   ],
   "source": [
    "data.groupby(['arrival_date_month','arrival_date_year'])"
   ]
  },
  {
   "cell_type": "code",
   "execution_count": 15,
   "id": "a9f7d05d-ddd1-4b3c-a5b2-e1d030677ab7",
   "metadata": {},
   "outputs": [
    {
     "data": {
      "text/plain": [
       "Text(1.3436237373737328, 0.5, 'Num of Guests')"
      ]
     },
     "execution_count": 15,
     "metadata": {},
     "output_type": "execute_result"
    },
    {
     "data": {
      "image/png": "[encoded data removed]",
      "text/plain": [
       "<Figure size 886.75x360 with 1 Axes>"
      ]
     },
     "metadata": {
      "needs_background": "light"
     },
     "output_type": "display_data"
    }
   ],
   "source": [
    "sns.displot(data=data,x='arrival_date_month',hue='arrival_date_year', height=5, aspect=11/5)\n",
    "plt.title('Num Of Guests In Each Month')\n",
    "plt.xticks(rotation=20) #No overlapping\n",
    "plt.xlabel('Months')\n",
    "plt.ylabel('Num of Guests')"
   ]
  },
  {
   "cell_type": "markdown",
   "id": "32366cf0-13a9-44c8-bee3-49cb81045c69",
   "metadata": {},
   "source": [
    "### The month where most customers book hotel changes by the year as well. We can see that in 2015, September is the busiest month. In 2016, October is the busiest month. Finally, in 2017, May is the busiest month. However we can kind of see that around summer time, a lot of tourists will likely to book hotels."
   ]
  },
  {
   "cell_type": "markdown",
   "id": "553332fb-45da-4f45-98ba-1a924e995ba0",
   "metadata": {},
   "source": [
    "## How much tourists pay for hotels?"
   ]
  },
  {
   "cell_type": "code",
   "execution_count": 16,
   "id": "71adc7d5-bde3-4919-9216-28d2d4624994",
   "metadata": {},
   "outputs": [
    {
     "data": {
      "image/png": "[encoded data removed]",
      "text/plain": [
       "<Figure size 1440x720 with 1 Axes>"
      ]
     },
     "metadata": {
      "needs_background": "light"
     },
     "output_type": "display_data"
    }
   ],
   "source": [
    "plt.figure(figsize=(20,10))\n",
    "sns.boxplot(data=data[data['is_canceled'] == 0],x='reserved_room_type',y='adr',hue='hotel')\n",
    "plt.title('Price Of Room Types Per Night')\n",
    "plt.xlabel('Type Of Room')\n",
    "plt.ylabel('Price Per Night')\n",
    "plt.show()"
   ]
  },
  {
   "cell_type": "markdown",
   "id": "e5375616-66e3-494a-bd36-20b9cf8e95e9",
   "metadata": {},
   "source": [
    "# Add histogram for country"
   ]
  },
  {
   "cell_type": "code",
   "execution_count": 17,
   "id": "7a7c8901-2673-467f-86f4-b1c974a7c2b8",
   "metadata": {},
   "outputs": [
    {
     "data": {
      "text/plain": [
       "Text(0, 0.5, 'Number')"
      ]
     },
     "execution_count": 17,
     "metadata": {},
     "output_type": "execute_result"
    },
    {
     "data": {
      "image/png": "[encoded data removed]",
      "text/plain": [
       "<Figure size 1440x720 with 1 Axes>"
      ]
     },
     "metadata": {
      "needs_background": "light"
     },
     "output_type": "display_data"
    }
   ],
   "source": [
    "plt.figure(figsize=(20,10))\n",
    "sns.countplot(x='country', data=data, order=pd.value_counts(data['country']).iloc[:20].index)\n",
    "plt.title('Top 20 Nationality of Guests')\n",
    "plt.xlabel('Country', fontsize=20)\n",
    "plt.ylabel('Number', fontsize=20)"
   ]
  },
  {
   "cell_type": "code",
   "execution_count": null,
   "id": "ac64a8cb-b93f-4ce9-a008-ac5dc0ba4678",
   "metadata": {},
   "outputs": [],
   "source": []
  }
 ],
 "metadata": {
  "kernelspec": {
   "display_name": "Python 3",
   "language": "python",
   "name": "python3"
  },
  "language_info": {
   "codemirror_mode": {
    "name": "ipython",
    "version": 3
   },
   "file_extension": ".py",
   "mimetype": "text/x-python",
   "name": "python",
   "nbconvert_exporter": "python",
   "pygments_lexer": "ipython3",
   "version": "3.8.8"
  }
 },
 "nbformat": 4,
 "nbformat_minor": 5
}
